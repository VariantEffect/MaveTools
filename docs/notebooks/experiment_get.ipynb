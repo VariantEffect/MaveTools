{
 "cells": [
  {
   "cell_type": "markdown",
   "metadata": {},
   "source": [
    "# GET experiment"
   ]
  },
  {
   "cell_type": "markdown",
   "metadata": {},
   "source": [
    "## get an experiment from MaveDB via the API"
   ]
  },
  {
   "cell_type": "markdown",
   "metadata": {},
   "source": [
    "To begin, import the modeules below."
   ]
  },
  {
   "cell_type": "code",
   "execution_count": 1,
   "metadata": {},
   "outputs": [],
   "source": [
    "import attr, os\n",
    "from pprint import PrettyPrinter\n",
    "from mavetools.client.client import Client\n",
    "from mavetools.models.experiment import Experiment"
   ]
  },
  {
   "cell_type": "markdown",
   "metadata": {},
   "source": [
    "Pretty printer is used to format the output nicely. "
   ]
  },
  {
   "cell_type": "code",
   "execution_count": 2,
   "metadata": {},
   "outputs": [],
   "source": [
    "pp = PrettyPrinter(indent=2)  # displayes results in readable format"
   ]
  },
  {
   "cell_type": "markdown",
   "metadata": {},
   "source": [
    "Here your base_url is set to localhost, http://127.0.0.1:8000/api/. This default funcionality is what you would want to use when working with a local instance of MaveDB (e.g., a development branch). If working with production mavedb you would set base url to https://www.mavedb.org/api/.\n",
    "\n",
    "In the cell below, comment out the base_url you will not be using."
   ]
  },
  {
   "cell_type": "code",
   "execution_count": 3,
   "metadata": {},
   "outputs": [],
   "source": [
    "base_url = 'http://127.0.0.1:8000/api/'\n",
    "#base_url = 'https://www.mavedb.org/api/'"
   ]
  },
  {
   "cell_type": "markdown",
   "metadata": {},
   "source": [
    "Set experiment_urn to match the experiment you want to get."
   ]
  },
  {
   "cell_type": "code",
   "execution_count": 4,
   "metadata": {},
   "outputs": [],
   "source": [
    "experiment_urn = 'urn:mavedb:00000001-a'"
   ]
  },
  {
   "cell_type": "markdown",
   "metadata": {},
   "source": [
    "Next, you will need an auth_token to make POST requests to MaveDB. If you have one, substitute it in the example provided below. If you need one, please follow these instructions:\n",
    "\n",
    "    1. go to https://www.mavedb.org\n",
    "    2. login using your ORCID ID\n",
    "    3. go to settings\n",
    "    4. generate new auth token\n",
    "    5. copy auth token and pase it in the auth_token field below"
   ]
  },
  {
   "cell_type": "code",
   "execution_count": 5,
   "metadata": {},
   "outputs": [],
   "source": [
    "# Generate a new auth_token in your profile and post it here\n",
    "auth_token = 'R2skRbpBD3Rsf5dNHoQxDZevdEE74T5lCKMFyBhBwwPFH4ZfTrxDz7TZ0kbFLtEZ'"
   ]
  },
  {
   "cell_type": "markdown",
   "metadata": {},
   "source": [
    "Here you instantiate the Client object. The Client object is the object by which the POST request is performed. The client object is instantiated with the value of base_url provided earlier, so make sure that is up-to-date. If base_url does not exist, base_url is defaulted to localhost, http://127.0.0.1:8000/api/."
   ]
  },
  {
   "cell_type": "code",
   "execution_count": 6,
   "metadata": {},
   "outputs": [],
   "source": [
    "client = Client(base_url, auth_token=auth_token) if base_url else Client(auth_token=auth_token)"
   ]
  },
  {
   "cell_type": "markdown",
   "metadata": {},
   "source": [
    "GET the model instance by passing the model type (Experiment, in this instance) and the experiment_urn as arguments to the get_model_istance funtion that operates on the Client object. This will GET the model instance (resource) from the server via the approprate API endpoint."
   ]
  },
  {
   "cell_type": "code",
   "execution_count": 7,
   "metadata": {},
   "outputs": [],
   "source": [
    "experiment = client.get_model_instance(Experiment, experiment_urn)"
   ]
  },
  {
   "cell_type": "markdown",
   "metadata": {},
   "source": [
    "Now, display the results!"
   ]
  },
  {
   "cell_type": "code",
   "execution_count": 8,
   "metadata": {},
   "outputs": [
    {
     "name": "stdout",
     "output_type": "stream",
     "text": [
      "{ 'abstract_text': 'Although we now routinely sequence human genomes, we can '\n",
      "                   'confidently identify only a fraction of the sequence '\n",
      "                   'variants that have a functional impact. Here, we developed '\n",
      "                   'a deep mutational scanning framework that produces '\n",
      "                   'exhaustive maps for human missense variants by combining '\n",
      "                   'random codon mutagenesis and multiplexed functional '\n",
      "                   'variation assays with computational imputation and '\n",
      "                   'refinement. We applied this framework to four proteins '\n",
      "                   'corresponding to six human genes: UBE2I (encoding SUMO E2 '\n",
      "                   'conjugase), SUMO1 (small ubiquitin-like modifier), TPK1 '\n",
      "                   '(thiamin pyrophosphokinase), and CALM1/2/3 (three genes '\n",
      "                   'encoding the protein calmodulin). The resulting maps '\n",
      "                   'recapitulate known protein features and confidently '\n",
      "                   'identify pathogenic variation. Assays potentially amenable '\n",
      "                   'to deep mutational scanning are already available for 57% '\n",
      "                   'of human disease genes, suggesting that DMS could '\n",
      "                   'ultimately map functional variation for all human disease '\n",
      "                   'genes.',\n",
      "  'approved': None,\n",
      "  'contributors': ['0000-0003-1628-9390'],\n",
      "  'created_by': '0000-0003-1628-9390',\n",
      "  'creation_date': '2018-06-26',\n",
      "  'doi_ids': [],\n",
      "  'experimentset': 'urn:mavedb:00000001',\n",
      "  'extra_metadata': {},\n",
      "  'keywords': [ {'text': 'E2'},\n",
      "                {'text': 'sumoylation'},\n",
      "                {'text': 'imputation'},\n",
      "                {'text': 'complementation'}],\n",
      "  'last_child_value': None,\n",
      "  'method_text': 'A Deep Mutational Scan of UBE2I using functional '\n",
      "                 'complementation in yeast was performed using two different '\n",
      "                 'methods: DMS-BarSeq and DMS-TileSeq, both datasets were '\n",
      "                 'combined and a machine-learning method was used to impute '\n",
      "                 'the effects of missing variants and refine measurements of '\n",
      "                 'lower confidence. See [**Weile *et al.* '\n",
      "                 '2017**](http://msb.embopress.org/content/13/12/957) for '\n",
      "                 'details.',\n",
      "  'modification_date': '2019-08-08',\n",
      "  'modified_by': '0000-0003-1628-9390',\n",
      "  'private': None,\n",
      "  'publish_date': '2018-06-26',\n",
      "  'pubmed_ids': [ { 'dbname': 'PubMed',\n",
      "                    'dbversion': None,\n",
      "                    'identifier': '29269382',\n",
      "                    'url': 'http://www.ncbi.nlm.nih.gov/pubmed/29269382'}],\n",
      "  'scoresets': [ 'urn:mavedb:00000001-a-2',\n",
      "                 'urn:mavedb:00000001-a-3',\n",
      "                 'urn:mavedb:00000001-a-4',\n",
      "                 'urn:mavedb:00000001-a-1'],\n",
      "  'short_description': 'A Deep Mutational Scan of the human SUMO E2 conjugase '\n",
      "                       'UBE2I using functional complementation in yeast.',\n",
      "  'sra_ids': [ { 'dbname': 'SRA',\n",
      "                 'dbversion': None,\n",
      "                 'identifier': 'SRP109101',\n",
      "                 'url': 'http://www.ebi.ac.uk/ena/data/view/SRP109101'},\n",
      "               { 'dbname': 'SRA',\n",
      "                 'dbversion': None,\n",
      "                 'identifier': 'SRP109119',\n",
      "                 'url': 'http://www.ebi.ac.uk/ena/data/view/SRP109119'}],\n",
      "  'title': 'UBE2I yeast complementation',\n",
      "  'urn': 'urn:mavedb:00000001-a'}\n"
     ]
    }
   ],
   "source": [
    "pp.pprint(attr.asdict(experiment))"
   ]
  },
  {
   "cell_type": "code",
   "execution_count": null,
   "metadata": {},
   "outputs": [],
   "source": []
  }
 ],
 "metadata": {
  "kernelspec": {
   "display_name": "Python 3 (ipykernel)",
   "language": "python",
   "name": "python3"
  },
  "language_info": {
   "codemirror_mode": {
    "name": "ipython",
    "version": 3
   },
   "file_extension": ".py",
   "mimetype": "text/x-python",
   "name": "python",
   "nbconvert_exporter": "python",
   "pygments_lexer": "ipython3",
   "version": "3.9.9"
  }
 },
 "nbformat": 4,
 "nbformat_minor": 4
}
