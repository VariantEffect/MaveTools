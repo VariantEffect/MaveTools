{
 "cells": [
  {
   "cell_type": "markdown",
   "metadata": {},
   "source": [
    "# Create Experiment"
   ]
  },
  {
   "cell_type": "markdown",
   "metadata": {},
   "source": [
    "## create an experiment in MaveDB via the API"
   ]
  },
  {
   "cell_type": "markdown",
   "metadata": {},
   "source": [
    "To begin, import the create_experiment function from mavetools."
   ]
  },
  {
   "cell_type": "code",
   "execution_count": null,
   "metadata": {},
   "outputs": [],
   "source": [
    "from mavetools.api.create_dataset import create_experiment"
   ]
  },
  {
   "cell_type": "markdown",
   "metadata": {},
   "source": [
    "Here your base_url is set to localhost, http://127.0.0.1:8000/api/v1. This default funcionality is what you would want to use when working with a local instance of MaveDB (e.g., a development branch). If working with production mavedb you would set base url to https://www.mavedb.org/api/.\n",
    "\n",
    "In the cell below, comment out the base_url you will not be using."
   ]
  },
  {
   "cell_type": "code",
   "execution_count": null,
   "metadata": {},
   "outputs": [],
   "source": [
    "base_url = 'http://127.0.0.1:8002/api/v1/'\n",
    "#base_url = 'https://www.mavedb.org/api/'"
   ]
  },
  {
   "cell_type": "markdown",
   "metadata": {},
   "source": [
    "Next, you will need an auth_token to make POST requests to MaveDB. If you have one, substitute it in the example provided below. If you need one, please follow these instructions:\n",
    "\n",
    "    1. go to https://www.mavedb.org\n",
    "    2. login using your ORCID ID\n",
    "    3. go to settings\n",
    "    4. generate new auth token\n",
    "    5. copy auth token and pase it in the auth_token field below\n",
    "    \n",
    "An example auth_token is provided below."
   ]
  },
  {
   "cell_type": "code",
   "execution_count": null,
   "metadata": {},
   "outputs": [],
   "source": [
    "auth_token = 'R2skRbpBD3Rsf5dNHoQxDZevdEE74T5lCKMFyBhBwwPFH4ZfTrxDz7TZ0kbFLtEZ'"
   ]
  },
  {
   "cell_type": "markdown",
   "metadata": {},
   "source": [
    "Create a NewExperiment object and populate the required attributes. You will need to substitute the values of the attributes for your own."
   ]
  },
  {
   "cell_type": "code",
   "execution_count": null,
   "metadata": {
    "scrolled": true
   },
   "outputs": [],
   "source": [
    "# substitute the each attribute for your experiment attributes\n",
    "\n",
    "new_experiment = {\n",
    "  \"title\": \"string\",\n",
    "  \"shortDescription\": \"string\",\n",
    "  \"abstractText\": \"string\",\n",
    "  \"methodText\": \"string\",\n",
    "  \"extraMetadata\": {},\n",
    "  \"keywords\": [\n",
    "    \"string\"\n",
    "  ],\n",
    "  \"doiIdentifiers\": [\n",
    "    {\n",
    "      \"identifier\": \"string\"\n",
    "    }\n",
    "  ],\n",
    "  \"pubmedIdentifiers\": [\n",
    "    {\n",
    "      \"identifier\": \"string\"\n",
    "    }\n",
    "  ]\n",
    "}"
   ]
  },
  {
   "cell_type": "markdown",
   "metadata": {},
   "source": [
    "Create the experiment by passing the new_experiment object as an argument to the create_experiment function that you imported earlier. This will create an experiment via the MaveDB API. The URN of the newly created experiment will be returned as a string."
   ]
  },
  {
   "cell_type": "code",
   "execution_count": null,
   "metadata": {},
   "outputs": [],
   "source": [
    "POST the model instance by passing the NewExperiment object as an argument to the post_model_istance funtion that operates on the Client object. This will POST the model instance to the approprate API endpoint."
   ]
  },
  {
   "cell_type": "code",
   "execution_count": null,
   "metadata": {},
   "outputs": [],
   "source": [
    "print(experiment_urn)"
   ]
  }
 ],
 "metadata": {
  "kernelspec": {
   "display_name": "Python 3 (ipykernel)",
   "language": "python",
   "name": "python3"
  },
  "language_info": {
   "codemirror_mode": {
    "name": "ipython",
    "version": 3
   },
   "file_extension": ".py",
   "mimetype": "text/x-python",
   "name": "python",
   "nbconvert_exporter": "python",
   "pygments_lexer": "ipython3",
   "version": "3.9.7"
  }
 },
 "nbformat": 4,
 "nbformat_minor": 4
}
