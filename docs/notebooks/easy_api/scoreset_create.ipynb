{
 "cells": [
  {
   "cell_type": "markdown",
   "metadata": {},
   "source": [
    "# Create ScoreSet"
   ]
  },
  {
   "cell_type": "markdown",
   "metadata": {},
   "source": [
    "## create a ScoreSet in MaveDB via the API"
   ]
  },
  {
   "cell_type": "markdown",
   "metadata": {},
   "source": [
    "To begin, import the create_scoreset function from mavetools."
   ]
  },
  {
   "cell_type": "code",
   "execution_count": null,
   "metadata": {},
   "outputs": [],
   "source": [
    "from mavetools.api.create_dataset import create_scoreset"
   ]
  },
  {
   "cell_type": "markdown",
   "metadata": {},
   "source": [
    "Here your base_url is set to localhost, http://127.0.0.1:8000/api/v1. This default funcionality is what you would want to use when working with a local instance of MaveDB (e.g., a development branch). If working with production mavedb you would set base url to https://www.mavedb.org/api/.\n",
    "\n",
    "In the cell below, comment out the base_url you will not be using."
   ]
  },
  {
   "cell_type": "code",
   "execution_count": null,
   "metadata": {},
   "outputs": [],
   "source": [
    "base_url = 'http://127.0.0.1:8002/api/v1/'\n",
    "#base_url = 'https://www.mavedb.org/api/'"
   ]
  },
  {
   "cell_type": "markdown",
   "metadata": {},
   "source": [
    "Next, you will need an auth_token to create a ScoreSet using the MaveDB API. If you have one, substitute it in the example provided below. If you need one, please follow these instructions:\n",
    "\n",
    "    1. go to https://www.mavedb.org\n",
    "    2. login using your ORCID ID\n",
    "    3. go to settings\n",
    "    4. generate new auth token\n",
    "    5. copy auth token and pase it in the auth_token field below\n",
    "    \n",
    "An example auth_token is provided below."
   ]
  },
  {
   "cell_type": "code",
   "execution_count": null,
   "metadata": {},
   "outputs": [],
   "source": [
    "auth_token = 'R2skRbpBD3Rsf5dNHoQxDZevdEE74T5lCKMFyBhBwwPFH4ZfTrxDz7TZ0kbFLtEZ'"
   ]
  },
  {
   "cell_type": "markdown",
   "metadata": {},
   "source": [
    "Save as a string, the file path to your scores and counts files (Note: the counts file is optional). This examples below are to test files that currently exist within mavetools."
   ]
  },
  {
   "cell_type": "code",
   "execution_count": null,
   "metadata": {},
   "outputs": [],
   "source": [
    "scores_file_path = \"../../tests/test_upload_scoreset/test_files/test_score_data.csv\"\n",
    "# counts are optional\n",
    "counts_file_path = \"../../tests/test_upload_scoreset/test_files/test_count.csv\""
   ]
  },
  {
   "cell_type": "markdown",
   "metadata": {},
   "source": [
    "Instantiate the new_scoreset object. You must substitute the attribute values for your scoreset's attribute values."
   ]
  },
  {
   "cell_type": "code",
   "execution_count": null,
   "metadata": {},
   "outputs": [],
   "source": [
    "# substitute each attribute for your scoreset attributes\n",
    "\n",
    "new_scoreset = {\n",
    "  \"title\": \"string\",\n",
    "  \"methodText\": \"string\",\n",
    "  \"abstractText\": \"string\",\n",
    "  \"shortDescription\": \"string\",\n",
    "  \"extraMetadata\": {},\n",
    "  \"experimentUrn\": \"tmp:6205721e-85f5-47f9-a162-bd26c285010c\", # the experiment where the scoreset belongs\n",
    "  \"keywords\": [\n",
    "    \"string\"\n",
    "  ],\n",
    "  \"targetGene\": {\n",
    "    \"name\": \"string\",\n",
    "    \"category\": \"string\",\n",
    "    \"referenceMaps\": [\n",
    "      {\n",
    "        \"genomeId\": 5,\n",
    "        #\"targetId\": 0\n",
    "      }\n",
    "    ],\n",
    "    \"wtSequence\": {\n",
    "      'sequenceType': 'dna',\n",
    "      'sequence': 'ATGTCGGGGATCGCCCTCAGCAGACTCGCCCAGGAGAGGAAAGCATGGAGGAAAGACCACCCATTTGGTTTCGTGGCTGTCCCAACAAAAAATCCCGATGGCACGATGAACCTCATGAACTGGGAGTGCGCCATTCCAGGAAAGAAAGGGACTCCGTGGGAAGGAGGCTTGTTTAAACTACGGATGCTTTTCAAAGATGATTATCCATCTTCGCCACCAAAATGTAAATTCGAACCACCATTATTTCACCCGAATGTGTACCCTTCGGGGACAGTGTGCCTGTCCATCTTAGAGGAGGACAAGGACTGGAGGCCAGCCATCACAATCAAACAGATCCTATTAGGAATACAGGAACTTCTAAATGAACCAAATATCCAAGACCCAGCTCAAGCAGAGGCCTACACGATTTACTGCCAAAACAGAGTGGAGTACGAGAAAAGGGTCCGAGCACAAGCCAAGAAGTTTGCGCCCTCATAA',\n",
    "    }\n",
    "  }\n",
    "}\n"
   ]
  },
  {
   "cell_type": "markdown",
   "metadata": {},
   "source": [
    "Create the scoreset by by passing the new_scoreset object as an argument to the create_scoreset function that you imported earlier. This will create a scoreset via the MaveDB API. The URN of the newly created scoreset will be returned as a string."
   ]
  },
  {
   "cell_type": "code",
   "execution_count": null,
   "metadata": {},
   "outputs": [],
   "source": [
    "scoreset_urn = create_scoreset(new_scoreset=new_scoreset, \n",
    "                               scores_file_path=scores_file_path, \n",
    "                               counts_file_path=counts_file_path, \n",
    "                               base_url=base_url, \n",
    "                               auth_token=auth_token)"
   ]
  },
  {
   "cell_type": "code",
   "execution_count": null,
   "metadata": {},
   "outputs": [],
   "source": [
    "print(scoreset_urn)"
   ]
  }
 ],
 "metadata": {
  "kernelspec": {
   "display_name": "Python 3 (ipykernel)",
   "language": "python",
   "name": "python3"
  },
  "language_info": {
   "codemirror_mode": {
    "name": "ipython",
    "version": 3
   },
   "file_extension": ".py",
   "mimetype": "text/x-python",
   "name": "python",
   "nbconvert_exporter": "python",
   "pygments_lexer": "ipython3",
   "version": "3.9.7"
  }
 },
 "nbformat": 4,
 "nbformat_minor": 4
}
