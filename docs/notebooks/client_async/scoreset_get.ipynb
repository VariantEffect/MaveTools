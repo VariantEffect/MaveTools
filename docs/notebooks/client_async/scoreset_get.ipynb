{
 "cells": [
  {
   "cell_type": "markdown",
   "metadata": {},
   "source": [
    "# GET scoreset"
   ]
  },
  {
   "cell_type": "markdown",
   "metadata": {},
   "source": [
    "## get a scoreset from MaveDB via the API"
   ]
  },
  {
   "cell_type": "markdown",
   "metadata": {},
   "source": [
    "To begin, import the modeules below."
   ]
  },
  {
   "cell_type": "code",
   "execution_count": null,
   "metadata": {},
   "outputs": [],
   "source": [
    "from pprint import PrettyPrinter\n",
    "from mavetools.client_async.client import Client\n",
    "from aiohttp import ClientSession\n",
    "import asyncio"
   ]
  },
  {
   "cell_type": "markdown",
   "metadata": {},
   "source": [
    "Pretty printer is used to format the output nicely."
   ]
  },
  {
   "cell_type": "code",
   "execution_count": null,
   "metadata": {},
   "outputs": [],
   "source": [
    "pp = PrettyPrinter(indent=2)"
   ]
  },
  {
   "cell_type": "markdown",
   "metadata": {},
   "source": [
    "Here your base_url is set to localhost, http://127.0.0.1:8000/api/. This default funcionality is what you would want to use when working with a local instance of MaveDB (e.g., a development branch). If working with production mavedb you would set base url to https://www.mavedb.org/api/.\n",
    "\n",
    "In the cell below, comment out the base_url you will not be using."
   ]
  },
  {
   "cell_type": "code",
   "execution_count": null,
   "metadata": {},
   "outputs": [],
   "source": [
    "base_url = 'http://127.0.0.1:8002/api/v1/'\n",
    "#base_url = 'https://www.mavedb.org/api/'"
   ]
  },
  {
   "cell_type": "markdown",
   "metadata": {},
   "source": [
    "Set scoreset_urn to match the scoreset you want to get."
   ]
  },
  {
   "cell_type": "code",
   "execution_count": null,
   "metadata": {},
   "outputs": [],
   "source": [
    "#scoreset_urn = 'tmp:75a29a98-9c82-4f79-a770-837e4a5a9b66'\n",
    "urn_list = ['tmp:75a29a98-9c82-4f79-a770-837e4a5a9b66', 'tmp:c8c0236f-b55a-4c31-bd8b-fa550879cd2f']"
   ]
  },
  {
   "cell_type": "markdown",
   "metadata": {},
   "source": [
    "Here you instantiate the Client object. The Client object is the object by which the POST request is performed. The client object is instantiated with the value of base_url provided earlier, so make sure that is up-to-date. If the base_url parameter is not provided, base_url is defaulted to localhost, http://127.0.0.1:8000/api/."
   ]
  },
  {
   "cell_type": "code",
   "execution_count": null,
   "metadata": {},
   "outputs": [],
   "source": [
    "client = Client(base_url)"
   ]
  },
  {
   "cell_type": "markdown",
   "metadata": {},
   "source": [
    "Get the scoreset by passing the scoreset_urn to the get_scroeset method that operates on the Client object. This will get the scroeset from MaveDB via the API."
   ]
  },
  {
   "cell_type": "code",
   "execution_count": null,
   "metadata": {
    "scrolled": true
   },
   "outputs": [],
   "source": [
    "#async with ClientSession() as session:\n",
    "#    r = await asyncio.gather(*[client.get_scoreset(urn, session) for urn in LIST_URN])\n",
    "l = await client.get_scoreset('tmp:75a29a98-9c82-4f79-a770-837e4a5a9b66')\n",
    "#print(l)\n",
    "r = await client.get_scoresets(urn_list)\n",
    "#print(r)\n",
    "#v = await client.get_scoresets(urn_list)\n",
    "\n",
    "\n",
    "#scoreset = client.get_scoreset(scoreset_urn)"
   ]
  },
  {
   "cell_type": "markdown",
   "metadata": {},
   "source": [
    "Now, display the results!"
   ]
  },
  {
   "cell_type": "code",
   "execution_count": null,
   "metadata": {},
   "outputs": [],
   "source": [
    "#pp.pprint(scoreset)\n",
    "pp.pprint(r)"
   ]
  }
 ],
 "metadata": {
  "kernelspec": {
   "display_name": "Python 3 (ipykernel)",
   "language": "python",
   "name": "python3"
  },
  "language_info": {
   "codemirror_mode": {
    "name": "ipython",
    "version": 3
   },
   "file_extension": ".py",
   "mimetype": "text/x-python",
   "name": "python",
   "nbconvert_exporter": "python",
   "pygments_lexer": "ipython3",
   "version": "3.9.7"
  }
 },
 "nbformat": 4,
 "nbformat_minor": 4
}
