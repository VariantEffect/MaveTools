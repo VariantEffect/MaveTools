{
 "cells": [
  {
   "cell_type": "markdown",
   "metadata": {},
   "source": [
    "# Create Experiments"
   ]
  },
  {
   "cell_type": "markdown",
   "metadata": {},
   "source": [
    "## create multiple experiments in MaveDB via the API"
   ]
  },
  {
   "cell_type": "markdown",
   "metadata": {},
   "source": [
    "To begin, import the modules below."
   ]
  },
  {
   "cell_type": "code",
   "execution_count": null,
   "metadata": {},
   "outputs": [],
   "source": [
    "from mavetools.client_async.client import Client"
   ]
  },
  {
   "cell_type": "markdown",
   "metadata": {},
   "source": [
    "Next, you will need an auth_token to create Experiments using the MaveDB API. If you have one, substitute it in the example provided below. If you need one, please follow these instructions:\n",
    "\n",
    "    1. go to https://www.mavedb.org\n",
    "    2. login using your ORCID ID\n",
    "    3. go to settings\n",
    "    4. generate new auth token\n",
    "    5. copy auth token and pase it in the auth_token field below\n",
    "    \n",
    "An example auth_token is provided below."
   ]
  },
  {
   "cell_type": "code",
   "execution_count": null,
   "metadata": {},
   "outputs": [],
   "source": [
    "auth_token = 'R2skRbpBD3Rsf5dNHoQxDZevdEE74T5lCKMFyBhBwwPFH4ZfTrxDz7TZ0kbFLtEZ'"
   ]
  },
  {
   "cell_type": "markdown",
   "metadata": {},
   "source": [
    "Here you instantiate the Client object. The Client object helps manage the client sessions."
   ]
  },
  {
   "cell_type": "code",
   "execution_count": null,
   "metadata": {},
   "outputs": [],
   "source": [
    "client = Client(auth_token=auth_token)"
   ]
  },
  {
   "cell_type": "markdown",
   "metadata": {},
   "source": [
    "Create a new experiment object and populate the required attributes. You will need to substitute the values of the attributes for your own. You will need to repeat this step for each of the experiments you want to create."
   ]
  },
  {
   "cell_type": "code",
   "execution_count": null,
   "metadata": {
    "scrolled": true
   },
   "outputs": [],
   "source": [
    "#with open(f\"{test_file_dir}/abstract.md\") as handle:\n",
    "#    test_abstract_text = handle.read()\n",
    "#with open(f\"{test_file_dir}/method.md\") as handle:\n",
    "#    test_method_text = handle.read()\n",
    "    \n",
    "# substitute the each attribute for your experiment attributes\n",
    "\n",
    "new_experiment = {\n",
    "  \"title\": \"string\",\n",
    "  \"shortDescription\": \"string\",\n",
    "  \"abstractText\": \"string\",\n",
    "  \"methodText\": \"string\",\n",
    "  \"extraMetadata\": {},\n",
    "  \"keywords\": [\n",
    "    \"string\"\n",
    "  ],\n",
    "  \"doiIdentifiers\": [\n",
    "    {\n",
    "      \"identifier\": \"string\"\n",
    "    }\n",
    "  ],\n",
    "  \"pubmedIdentifiers\": [\n",
    "    {\n",
    "      \"identifier\": \"string\"\n",
    "    }\n",
    "  ]\n",
    "}\n",
    "\n",
    "new_experiment_2 = {\n",
    "  \"title\": \"string2\",\n",
    "  \"shortDescription\": \"string2\",\n",
    "  \"abstractText\": \"string2\",\n",
    "  \"methodText\": \"string2\",\n",
    "  \"extraMetadata\": {},\n",
    "  \"keywords\": [\n",
    "    \"string\"\n",
    "  ],\n",
    "  \"doiIdentifiers\": [\n",
    "    {\n",
    "      \"identifier\": \"string\"\n",
    "    }\n",
    "  ],\n",
    "  \"pubmedIdentifiers\": [\n",
    "    {\n",
    "      \"identifier\": \"string\"\n",
    "    }\n",
    "  ]\n",
    "}"
   ]
  },
  {
   "cell_type": "markdown",
   "metadata": {},
   "source": [
    "Put the experiment objects you just created into a list."
   ]
  },
  {
   "cell_type": "code",
   "execution_count": null,
   "metadata": {},
   "outputs": [],
   "source": [
    "new_experiments = [new_experiment, new_experiment_2]"
   ]
  },
  {
   "cell_type": "markdown",
   "metadata": {},
   "source": [
    "Create the experiments by passing the new_experiments list as an argument to the create_experiments method. This will create the experiments via the MaveDB API. Remember to include the await keyword."
   ]
  },
  {
   "cell_type": "code",
   "execution_count": null,
   "metadata": {
    "scrolled": true
   },
   "outputs": [],
   "source": [
    "experiment_urn = await client.create_experiments(new_experiments)"
   ]
  },
  {
   "cell_type": "markdown",
   "metadata": {},
   "source": [
    "Now, display the results!"
   ]
  },
  {
   "cell_type": "code",
   "execution_count": null,
   "metadata": {},
   "outputs": [],
   "source": [
    "print(experiment_urn)"
   ]
  }
 ],
 "metadata": {
  "kernelspec": {
   "display_name": "Python 3 (ipykernel)",
   "language": "python",
   "name": "python3"
  },
  "language_info": {
   "codemirror_mode": {
    "name": "ipython",
    "version": 3
   },
   "file_extension": ".py",
   "mimetype": "text/x-python",
   "name": "python",
   "nbconvert_exporter": "python",
   "pygments_lexer": "ipython3",
   "version": "3.9.7"
  }
 },
 "nbformat": 4,
 "nbformat_minor": 4
}
