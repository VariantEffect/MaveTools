{
 "cells": [
  {
   "cell_type": "markdown",
   "metadata": {},
   "source": [
    "# GET scoreset"
   ]
  },
  {
   "cell_type": "markdown",
   "metadata": {},
   "source": [
    "## get a scoreset from MaveDB via the API"
   ]
  },
  {
   "cell_type": "markdown",
   "metadata": {},
   "source": [
    "To begin, import the modeules below."
   ]
  },
  {
   "cell_type": "code",
   "execution_count": 1,
   "metadata": {},
   "outputs": [],
   "source": [
    "import attr, os\n",
    "from pprint import PrettyPrinter\n",
    "from mavetools.client.client import Client\n",
    "from mavetools.models.scoreset import ScoreSet"
   ]
  },
  {
   "cell_type": "markdown",
   "metadata": {},
   "source": [
    "Pretty printer is used to format the output nicely."
   ]
  },
  {
   "cell_type": "code",
   "execution_count": 2,
   "metadata": {},
   "outputs": [],
   "source": [
    "pp = PrettyPrinter(indent=2)"
   ]
  },
  {
   "cell_type": "markdown",
   "metadata": {},
   "source": [
    "Here your base_url is set to localhost, http://127.0.0.1:8000/api/. This default funcionality is what you would want to use when working with a local instance of MaveDB (e.g., a development branch). If working with production mavedb you would set base url to https://www.mavedb.org/api/.\n",
    "\n",
    "In the cell below, comment out the base_url you will not be using."
   ]
  },
  {
   "cell_type": "code",
   "execution_count": 3,
   "metadata": {},
   "outputs": [],
   "source": [
    "base_url = 'http://127.0.0.1:8000/api/'\n",
    "#base_url = 'https://www.mavedb.org/api/'"
   ]
  },
  {
   "cell_type": "markdown",
   "metadata": {},
   "source": [
    "Set experiment_urn to match the scoreset you want to get."
   ]
  },
  {
   "cell_type": "code",
   "execution_count": 4,
   "metadata": {},
   "outputs": [],
   "source": [
    "scoreset_urn = 'urn:mavedb:00000001-a-1'"
   ]
  },
  {
   "cell_type": "markdown",
   "metadata": {},
   "source": [
    "Next, you will need an auth_token to make POST requests to MaveDB. If you have one, substitute it in the example provided below. If you need one, please follow these instructions:\n",
    "\n",
    "    1. go to https://www.mavedb.org\n",
    "    2. login using your ORCID ID\n",
    "    3. go to settings\n",
    "    4. generate new auth token\n",
    "    5. copy auth token and pase it in the auth_token field below"
   ]
  },
  {
   "cell_type": "code",
   "execution_count": 5,
   "metadata": {},
   "outputs": [],
   "source": [
    "# this is an example of what your auth_token should look like\n",
    "auth_token = 'R2skRbpBD3Rsf5dNHoQxDZevdEE74T5lCKMFyBhBwwPFH4ZfTrxDz7TZ0kbFLtEZ'"
   ]
  },
  {
   "cell_type": "markdown",
   "metadata": {},
   "source": [
    "Here you instantiate the Client object. The Client object is the object by which the POST request is performed. The client object is instantiated with the value of base_url provided earlier, so make sure that is up-to-date. If base_url does not exist, base_url is defaulted to localhost, http://127.0.0.1:8000/api/."
   ]
  },
  {
   "cell_type": "code",
   "execution_count": 6,
   "metadata": {},
   "outputs": [],
   "source": [
    "client = Client(base_url, auth_token=auth_token) if base_url else Client(auth_token=auth_token)"
   ]
  },
  {
   "cell_type": "markdown",
   "metadata": {},
   "source": [
    "GET the model instance by passing the model type (Scoreset, in this instance) and the scoreset_urn as arguments to the get_model_istance funtion that operates on the Client object. This will GET the model instance (resource) from the server via the approprate API endpoint."
   ]
  },
  {
   "cell_type": "code",
   "execution_count": 7,
   "metadata": {
    "scrolled": true
   },
   "outputs": [],
   "source": [
    "scoreset = client.get_model_instance(ScoreSet, scoreset_urn)"
   ]
  },
  {
   "cell_type": "markdown",
   "metadata": {},
   "source": [
    "Now, display the results!"
   ]
  },
  {
   "cell_type": "code",
   "execution_count": 8,
   "metadata": {},
   "outputs": [
    {
     "name": "stdout",
     "output_type": "stream",
     "text": [
      "{ 'abstract_text': 'Although we now routinely sequence human genomes, we can '\n",
      "                   'confidently identify only a fraction of the sequence '\n",
      "                   'variants that have a functional impact. Here, we developed '\n",
      "                   'a deep mutational scanning framework that produces '\n",
      "                   'exhaustive maps for human missense variants by combining '\n",
      "                   'random codon mutagenesis and multiplexed functional '\n",
      "                   'variation assays with computational imputation and '\n",
      "                   'refinement. We applied this framework to four proteins '\n",
      "                   'corresponding to six human genes: UBE2I (encoding SUMO E2 '\n",
      "                   'conjugase), SUMO1 (small ubiquitin-like modifier), TPK1 '\n",
      "                   '(thiamin pyrophosphokinase), and CALM1/2/3 (three genes '\n",
      "                   'encoding the protein calmodulin). The resulting maps '\n",
      "                   'recapitulate known protein features and confidently '\n",
      "                   'identify pathogenic variation. Assays potentially amenable '\n",
      "                   'to deep mutational scanning are already available for 57% '\n",
      "                   'of human disease genes, suggesting that DMS could '\n",
      "                   'ultimately map functional variation for all human disease '\n",
      "                   'genes. \\r\\n'\n",
      "                   '\\r\\n'\n",
      "                   'See [**Weile *et al.* '\n",
      "                   '2017**](http://msb.embopress.org/content/13/12/957)',\n",
      "  'approved': None,\n",
      "  'contributors': ['0000-0003-1628-9390'],\n",
      "  'count_columns': ['hgvs_nt', 'hgvs_splice', 'hgvs_pro'],\n",
      "  'created_by': '0000-0003-1628-9390',\n",
      "  'creation_date': '2018-06-26',\n",
      "  'current_version': 'urn:mavedb:00000001-a-1',\n",
      "  'data_usage_policy': '',\n",
      "  'dataset_columns': None,\n",
      "  'doi_ids': [],\n",
      "  'experiment': 'urn:mavedb:00000001-a',\n",
      "  'extra_metadata': {},\n",
      "  'is_meta_analysis': False,\n",
      "  'keywords': [ {'text': 'DMS-BarSeq'},\n",
      "                {'text': 'E2'},\n",
      "                {'text': 'sumoylation'},\n",
      "                {'text': 'imputation'},\n",
      "                {'text': 'DMS-TileSeq'},\n",
      "                {'text': 'complementation'}],\n",
      "  'last_child_value': None,\n",
      "  'licence': { 'link': 'https://creativecommons.org/licenses/by/4.0/',\n",
      "               'long_name': 'CC BY 4.0 (Attribution)',\n",
      "               'short_name': 'CC BY 4.0',\n",
      "               'version': '4.0'},\n",
      "  'method_text': '##Scoring procedure:\\r\\n'\n",
      "                 'DMS-BarSeq and DMS-TileSeq reads were processed using the '\n",
      "                 '[dmsPipeline](https://bitbucket.org/rothlabto/dmspipeline) '\n",
      "                 'software. Briefly, Barseq read counts were used to establish '\n",
      "                 'relative frequencies of each strain at each timepoint and '\n",
      "                 'converted to estimates of absolute frequencies using OD '\n",
      "                 'measurement data. Absolute counts were used to establish '\n",
      "                 'growth curves from which fitness parameters were estimated '\n",
      "                 'and then normalized to 0-1 scale where 0 corresponds to null '\n",
      "                 'controls and 1 corresponds to WT controls. Meanwhile, '\n",
      "                 'TileSeq read counts were used to establish relative allele '\n",
      "                 'frequencies in each condition. Non-mutagenized control '\n",
      "                 'counts were subtracted from counts (as estimates of '\n",
      "                 'sequencing error). log ratios of selection over '\n",
      "                 'non-selection counts were calculated. The resulting TileSeq '\n",
      "                 'fitness values were then rescaled to the distribution of the '\n",
      "                 'BarSeq fitness scores. Fitness scores were joined using '\n",
      "                 'confidence-weighted averages. Random-Forest base machine '\n",
      "                 'learning was used to impute missing values and refine '\n",
      "                 'low-confidence measurements, based on intrinsic, structural, '\n",
      "                 'and biochemical features.\\r\\n'\n",
      "                 '\\r\\n'\n",
      "                 'See [**Weile *et al.* '\n",
      "                 '2017**](http://msb.embopress.org/content/13/12/957) for more '\n",
      "                 'details.\\r\\n'\n",
      "                 '\\r\\n'\n",
      "                 '## Additional columns:\\r\\n'\n",
      "                 '* exp.score = experimental score from the joint '\n",
      "                 'DMS-BarSeq/DMS-TileSeq screens\\r\\n'\n",
      "                 '* exp.sd = standard deviation of the experimental score\\r\\n'\n",
      "                 '* df = degrees of freedom (number of replicates contributing '\n",
      "                 'to the experimental score)\\r\\n'\n",
      "                 '* pred.score = machine-learning predicted score',\n",
      "  'modification_date': '2019-08-08',\n",
      "  'modified_by': '0000-0003-1628-9390',\n",
      "  'next_version': None,\n",
      "  'previous_version': None,\n",
      "  'private': None,\n",
      "  'publish_date': '2018-06-26',\n",
      "  'pubmed_ids': [ { 'dbname': 'PubMed',\n",
      "                    'dbversion': None,\n",
      "                    'identifier': '29269382',\n",
      "                    'url': 'http://www.ncbi.nlm.nih.gov/pubmed/29269382'}],\n",
      "  'replaces': None,\n",
      "  'score_columns': [ 'hgvs_nt',\n",
      "                     'hgvs_splice',\n",
      "                     'hgvs_pro',\n",
      "                     'score',\n",
      "                     'sd',\n",
      "                     'se',\n",
      "                     'exp.score',\n",
      "                     'exp.sd',\n",
      "                     'df',\n",
      "                     'pred.score'],\n",
      "  'short_description': 'A joint Deep Mutational Scan of the human SUMO E2 '\n",
      "                       'conjugase UBE2I using functional complementation in '\n",
      "                       'yeast, combining DMS-BarSeq and DMS-TileSeq data, '\n",
      "                       'followed by machine-learning-based imputation and '\n",
      "                       'refinement.',\n",
      "  'sra_ids': None,\n",
      "  'target': { 'ensembl': { 'dbname': 'Ensembl',\n",
      "                           'dbversion': None,\n",
      "                           'identifier': 'ENSG00000103275',\n",
      "                           'offset': 0,\n",
      "                           'url': 'http://www.ensembl.org/id/ENSG00000103275'},\n",
      "              'name': 'UBE2I',\n",
      "              'reference_maps': [ { 'genome': { 'assembly_identifier': { 'dbname': 'GenomeAssembly',\n",
      "                                                                         'dbversion': None,\n",
      "                                                                         'identifier': 'GCF_000001405.26',\n",
      "                                                                         'url': 'http://www.ncbi.nlm.nih.gov/assembly/GCF_000001405.26'},\n",
      "                                                'organism_name': 'Homo sapiens',\n",
      "                                                'short_name': 'hg38'}}],\n",
      "              'reference_sequence': { 'sequence': 'ATGTCGGGGATCGCCCTCAGCAGACTCGCCCAGGAGAGGAAAGCATGGAGGAAAGACCACCCATTTGGTTTCGTGGCTGTCCCAACAAAAAATCCCGATGGCACGATGAACCTCATGAACTGGGAGTGCGCCATTCCAGGAAAGAAAGGGACTCCGTGGGAAGGAGGCTTGTTTAAACTACGGATGCTTTTCAAAGATGATTATCCATCTTCGCCACCAAAATGTAAATTCGAACCACCATTATTTCACCCGAATGTGTACCCTTCGGGGACAGTGTGCCTGTCCATCTTAGAGGAGGACAAGGACTGGAGGCCAGCCATCACAATCAAACAGATCCTATTAGGAATACAGGAACTTCTAAATGAACCAAATATCCAAGACCCAGCTCAAGCAGAGGCCTACACGATTTACTGCCAAAACAGAGTGGAGTACGAGAAAAGGGTCCGAGCACAAGCCAAGAAGTTTGCGCCCTCATAA',\n",
      "                                      'sequence_type': 'dna'},\n",
      "              'refseq': { 'dbname': 'RefSeq',\n",
      "                          'dbversion': None,\n",
      "                          'identifier': 'NM_003345',\n",
      "                          'offset': 159,\n",
      "                          'url': 'http://www.ncbi.nlm.nih.gov/entrez/viewer.fcgi?val=NM_003345'},\n",
      "              'scoreset': 'urn:mavedb:00000001-a-1',\n",
      "              'type': 'Protein coding',\n",
      "              'uniprot': { 'dbname': 'UniProt',\n",
      "                           'dbversion': None,\n",
      "                           'identifier': 'P63279',\n",
      "                           'offset': 0,\n",
      "                           'url': 'http://purl.uniprot.org/uniprot/P63279'}},\n",
      "  'title': 'UBE2I imputed & refined',\n",
      "  'urn': 'urn:mavedb:00000001-a-1',\n",
      "  'variant_count': 3180}\n"
     ]
    }
   ],
   "source": [
    "pp.pprint(attr.asdict(scoreset))"
   ]
  },
  {
   "cell_type": "code",
   "execution_count": null,
   "metadata": {},
   "outputs": [],
   "source": []
  }
 ],
 "metadata": {
  "kernelspec": {
   "display_name": "Python 3 (ipykernel)",
   "language": "python",
   "name": "python3"
  },
  "language_info": {
   "codemirror_mode": {
    "name": "ipython",
    "version": 3
   },
   "file_extension": ".py",
   "mimetype": "text/x-python",
   "name": "python",
   "nbconvert_exporter": "python",
   "pygments_lexer": "ipython3",
   "version": "3.9.9"
  }
 },
 "nbformat": 4,
 "nbformat_minor": 4
}
