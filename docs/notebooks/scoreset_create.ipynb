{
 "cells": [
  {
   "cell_type": "markdown",
   "metadata": {},
   "source": [
    "# POST scoreset"
   ]
  },
  {
   "cell_type": "markdown",
   "metadata": {},
   "source": [
    "## create a scoreset in MaveDB via the API"
   ]
  },
  {
   "cell_type": "markdown",
   "metadata": {},
   "source": [
    "To begin, import the modeules below."
   ]
  },
  {
   "cell_type": "code",
   "execution_count": 1,
   "metadata": {},
   "outputs": [],
   "source": [
    "import attr, os\n",
    "from mavetools.client.client import Client\n",
    "from mavetools.models.licence import Licence\n",
    "from mavetools.models.scoreset import NewScoreSet, NewScoreSetRequest, ScoreSet\n",
    "from mavetools.models.target import NewTarget, ReferenceGenome, ReferenceMap, SequenceOffset\n",
    "from mavetools.validators.validate import validate_all"
   ]
  },
  {
   "cell_type": "markdown",
   "metadata": {},
   "source": [
    "Here your base_url is set to localhost, http://127.0.0.1:8000/api/. This default funcionality is what you would want to use when working with a local instance of MaveDB (e.g., a development branch). If working with production mavedb you would set base url to https://www.mavedb.org/api/.\n",
    "\n",
    "In the cell below, comment out the base_url you will not be using."
   ]
  },
  {
   "cell_type": "code",
   "execution_count": 2,
   "metadata": {},
   "outputs": [],
   "source": [
    "base_url = 'http://127.0.0.1:8000/api/'\n",
    "#base_url = 'https://www.mavedb.org/api/'"
   ]
  },
  {
   "cell_type": "markdown",
   "metadata": {},
   "source": [
    "Set the name value of experiment_urn to the urn of the experiment where the scoreset belongs."
   ]
  },
  {
   "cell_type": "code",
   "execution_count": 3,
   "metadata": {},
   "outputs": [],
   "source": [
    "experiment_urn = 'tmp:WRe9wTCdGxKKQV4a'"
   ]
  },
  {
   "cell_type": "markdown",
   "metadata": {},
   "source": [
    "Next, you will need an auth_token to make POST requests to MaveDB. If you have one, substitute it in the example provided below. If you need one, please follow these instructions:\n",
    "\n",
    "    1. go to https://www.mavedb.org\n",
    "    2. login using your ORCID ID\n",
    "    3. go to settings\n",
    "    4. generate new auth token\n",
    "    5. copy auth token and pase it in the auth_token field below"
   ]
  },
  {
   "cell_type": "code",
   "execution_count": 4,
   "metadata": {},
   "outputs": [],
   "source": [
    "# Generate a new auth_token in your profile and post it here\n",
    "auth_token = 'R2skRbpBD3Rsf5dNHoQxDZevdEE74T5lCKMFyBhBwwPFH4ZfTrxDz7TZ0kbFLtEZ'"
   ]
  },
  {
   "cell_type": "markdown",
   "metadata": {},
   "source": [
    "Here you instantiate the Client object. The Client object is the object by which the POST request is performed. The client object is instantiated with the value of base_url provided earlier, so make sure that is up-to-date. If base_url does not exist, base_url is defaulted to localhost, http://127.0.0.1:8000/api/."
   ]
  },
  {
   "cell_type": "code",
   "execution_count": 5,
   "metadata": {},
   "outputs": [],
   "source": [
    "client = Client(base_url, auth_token=auth_token) if base_url else Client(auth_token=auth_token)"
   ]
  },
  {
   "cell_type": "markdown",
   "metadata": {},
   "source": [
    "test_file_dir is the path to the directory in which the files needed for making a scoreset POST resquest exist. The required files are as follows:\n",
    "\n",
    "1. abstract.md\n",
    "2. method.md\n",
    "3. test_count.csv\n",
    "4. test_fasta_file.fasta\n",
    "5. test_metadata.json\n",
    "6. test_score_data.csv\n",
    "\n",
    "For the abstrct.md and method.md files, simply paste your content into these files.\n",
    "\n",
    "The test_ files above will be replaced by your own files. You can do this in two ways, replace the name of your files to correspond with the above files and replace the files in the directory listed below (recommended). Or, you can put your files with their current name in the directory, just ensure that you change the names accoringly when instantiating the NewScoreSet and NewScoreSetRequest onjects later in this module.\n",
    "\n",
    "We have an example directory in mavetools that holds the files of interest. Though this directory can exist anywhere on your computer, you must put the correct path to that directory as the value to test_file_dir."
   ]
  },
  {
   "cell_type": "code",
   "execution_count": 6,
   "metadata": {},
   "outputs": [],
   "source": [
    "# here is an example if your copy of mavetools exists within Pycharm\n",
    "test_file_dir = '~/PycharmProjects/mavetools/tests/test_upload_scoreset/test_files'"
   ]
  },
  {
   "cell_type": "markdown",
   "metadata": {},
   "source": [
    "Here we want to valide the data we want to POST, run the validation code here.\n",
    "\n",
    "If you get an error message here, DO NOT UPLOAD, as your upload will fail serverside as well. Instead resolve the error, run script again, confirm error has been resolved, then upload."
   ]
  },
  {
   "cell_type": "code",
   "execution_count": 7,
   "metadata": {},
   "outputs": [],
   "source": [
    "#validate\n",
    "#validate_all(count_data=f\"{test_file_dir}/test_count.csv\", \n",
    "#             score_data=f\"{test_file_dir}/test_score_data.csv\", \n",
    "#             scorejson=None)"
   ]
  },
  {
   "cell_type": "markdown",
   "metadata": {},
   "source": [
    "Instantiate the NewScoreSet object and assign it to the new_scoreset veriable. You must substitute the attribute values for your scoreset's attribute values."
   ]
  },
  {
   "cell_type": "code",
   "execution_count": 8,
   "metadata": {},
   "outputs": [],
   "source": [
    "#with open(f\"{test_file_dir}/abstract.md\") as handle:\n",
    "#    test_abstract_text = handle.read()\n",
    "\n",
    "# substitute each attribute for your scoreset attributes\n",
    "new_scoreset = NewScoreSet(\n",
    "    title='test_title',\n",
    "    short_description='test_short_description',\n",
    "    #abstract_text=test_abstract_text,\n",
    "    abstract_text=\"abstract\",\n",
    "\n",
    "    experiment=experiment_urn,\n",
    "    score_data=f\"{test_file_dir}/test_score_data.csv\",\n",
    "    count_data=f\"{test_file_dir}/test_count.csv\",\n",
    "    meta_data=f\"{test_file_dir}/test_metadata.json\",\n",
    "    licence=Licence(short_name='CC BY 4.0'),\n",
    "\n",
    "    sra_ids=['SRP109119'],\n",
    "    pubmed_ids=['23035249'],\n",
    "    doi_ids=['10.1038/s41467-019-11526-w'],\n",
    ")"
   ]
  },
  {
   "cell_type": "markdown",
   "metadata": {},
   "source": [
    "Instantiate the NewScoresetRequest object and assign it to the new_scoreset_request. You must substitute the attribute values for your own."
   ]
  },
  {
   "cell_type": "code",
   "execution_count": 9,
   "metadata": {},
   "outputs": [],
   "source": [
    "# substitute each attribute for your scoreset attributes\n",
    "new_scoreset_request = NewScoreSetRequest(\n",
    "    scoreset=new_scoreset,\n",
    "    target=NewTarget(\n",
    "        name='test_target_name',\n",
    "        type='Protein coding',\n",
    "        sequence_type='Infer',\n",
    "        fasta_file=f\"{test_file_dir}/test_fasta_file.fasta\"\n",
    "    ),\n",
    "    uniprot=SequenceOffset(offset=1, identifier='P63165'),\n",
    "    ensembl=SequenceOffset(offset=1, identifier='ENSG00000116030'),\n",
    "    refseq=SequenceOffset(offset=1, identifier='NM_001005781.1'),\n",
    "    reference_maps=[\n",
    "        ReferenceMap(genome=ReferenceGenome(short_name='hg16'))\n",
    "    ]\n",
    ")"
   ]
  },
  {
   "cell_type": "markdown",
   "metadata": {},
   "source": [
    "POST the model instance by passing the NewExperiment object as an argument to the post_model_istance funtion that operates on the Client object. This will POST the model instance to the approprate API endpoint."
   ]
  },
  {
   "cell_type": "code",
   "execution_count": 10,
   "metadata": {},
   "outputs": [],
   "source": [
    "client.post_model_instance(new_scoreset_request)"
   ]
  },
  {
   "cell_type": "code",
   "execution_count": null,
   "metadata": {},
   "outputs": [],
   "source": []
  }
 ],
 "metadata": {
  "kernelspec": {
   "display_name": "Python 3 (ipykernel)",
   "language": "python",
   "name": "python3"
  },
  "language_info": {
   "codemirror_mode": {
    "name": "ipython",
    "version": 3
   },
   "file_extension": ".py",
   "mimetype": "text/x-python",
   "name": "python",
   "nbconvert_exporter": "python",
   "pygments_lexer": "ipython3",
   "version": "3.9.9"
  }
 },
 "nbformat": 4,
 "nbformat_minor": 4
}
